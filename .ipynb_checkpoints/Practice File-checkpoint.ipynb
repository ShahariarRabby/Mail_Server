{
 "cells": [
  {
   "cell_type": "code",
   "execution_count": null,
   "metadata": {
    "collapsed": true
   },
   "outputs": [],
   "source": [
    "## Test mail"
   ]
  },
  {
   "cell_type": "code",
   "execution_count": 1,
   "metadata": {
    "collapsed": false
   },
   "outputs": [],
   "source": [
    "#!/usr/bin/python\n",
    "__author__ = 'Shahariar'\n",
    "import email\n",
    "import imaplib\n",
    "import ctypes\n",
    "import getpass\n",
    "from playsound import playsound\n",
    "# ORG_EMAIL = \"@gmail.com\"\n",
    "# FROM_EMAIL = \"youser mail\" + ORG_EMAIL\n",
    "# FROM_PWD = \"pass\""
   ]
  },
  {
   "cell_type": "code",
   "execution_count": 2,
   "metadata": {
    "collapsed": false
   },
   "outputs": [
    {
     "data": {
      "text/plain": [
       "('OK', ['256'])"
      ]
     },
     "execution_count": 2,
     "metadata": {},
     "output_type": "execute_result"
    }
   ],
   "source": [
    "mail = imaplib.IMAP4_SSL('imap.gmail.com', 993)\n",
    "FROM_EMAIL = raw_input(\"insert Email : \")\n",
    "#pwd = raw_input(\"insert password : \")\n",
    "FROM_PWD = getpass.getpass(\"input : \")\n",
    "mail.login(FROM_EMAIL, FROM_PWD)\n",
    "mail.select(\"INBOX\")"
   ]
  },
  {
   "cell_type": "code",
   "execution_count": 3,
   "metadata": {
    "collapsed": false
   },
   "outputs": [],
   "source": [
    "def read_email_from_gmail():\n",
    "    try:\n",
    "        type, data = mail.search(None, 'ALL')\n",
    "        mail_ids = data[0]\n",
    "\n",
    "        id_list = mail_ids.split()\n",
    "        first_email_id = int(id_list[0])\n",
    "        latest_email_id = int(id_list[-1])\n",
    "\n",
    "        #parser = Parser()\n",
    "        for i in range(latest_email_id, latest_email_id - 10, -1):\n",
    "            typ, data = mail.fetch(i, '(RFC822)')\n",
    "\n",
    "            for response_part in data:\n",
    "                if isinstance(response_part, tuple):\n",
    "                    msg = email.message_from_string(response_part[1])\n",
    "                    email_subject = msg['subject']\n",
    "                    email_from = msg['from']\n",
    "\n",
    "                    print 'From : ' + email_from\n",
    "                    print 'Subject : ' + email_subject\n",
    "                    print \"Read mail: https://gmail.com\\n\"\n",
    "\n",
    "    except Exception, e:\n",
    "        print (str(e))\n"
   ]
  },
  {
   "cell_type": "code",
   "execution_count": 4,
   "metadata": {
    "collapsed": false
   },
   "outputs": [],
   "source": [
    "def loop():\n",
    "    mail.select(\"INBOX\")\n",
    "    n = 0\n",
    "    (retcode, messages) = mail.search(None, '(UNSEEN)')\n",
    "    if retcode == 'OK':\n",
    "\n",
    "        for num in messages[0].split():\n",
    "            # print 'Processing '\n",
    "            n = n + 1\n",
    "            print n\n",
    "            typ, data = mail.fetch(num, '(RFC822)')\n",
    "            for response_part in data:\n",
    "                if isinstance(response_part, tuple):\n",
    "                    original = email.message_from_string(response_part[1])\n",
    "                    print original['From']\n",
    "                    data = original['Subject']\n",
    "                    #print original['Body']\n",
    "                    playsound('demonstrative.wav')\n",
    "                    print data\n",
    "                    print \"Read mail: https://gmail.com\"\n",
    "                    if data == 'eject':\n",
    "                        ctypes.windll.WINMM.mciSendStringW(u\"set cdaudio door open\", None, 0, None)\n",
    "                    typ, data = mail.store(num, '+FLAGS', '\\\\Seen')\n",
    "\n",
    "    from sys import stdout\n",
    "    stdout.write(str('#'))\n"
   ]
  },
  {
   "cell_type": "code",
   "execution_count": 5,
   "metadata": {
    "collapsed": false
   },
   "outputs": [
    {
     "name": "stdout",
     "output_type": "stream",
     "text": [
      "#thanks\n"
     ]
    }
   ],
   "source": [
    "if __name__ == '__main__':\n",
    "    try:\n",
    "        ##print 'Press Ctrl-C to quit.'\n",
    "        loop()\n",
    "    finally:\n",
    "        print\"thanks\""
   ]
  },
  {
   "cell_type": "code",
   "execution_count": 76,
   "metadata": {
    "collapsed": false
   },
   "outputs": [
    {
     "name": "stdout",
     "output_type": "stream",
     "text": [
      "Error: unable to send email\n"
     ]
    }
   ],
   "source": [
    "import smtplib\n",
    "\n",
    "sender = FROM_EMAIL\n",
    "receivers = FROM_EMAIL\n",
    "\n",
    "message = \"\"\"From: From Person <from@fromdomain.com>\n",
    "To: To Person <to@todomain.com>\n",
    "Subject: SMTP e-mail test\n",
    "\n",
    "This is a test e-mail message.\n",
    "\"\"\"\n",
    "\n",
    "try:\n",
    "   smtpObj = smtplib.SMTP('localhost')\n",
    "   smtpObj.sendmail(sender, receivers, message)         \n",
    "   print \"Successfully sent email\"\n",
    "except:\n",
    "   print \"Error: unable to send email\""
   ]
  },
  {
   "cell_type": "code",
   "execution_count": 107,
   "metadata": {
    "collapsed": false
   },
   "outputs": [
    {
     "data": {
      "text/plain": [
       "(235, '2.7.0 Accepted')"
      ]
     },
     "execution_count": 107,
     "metadata": {},
     "output_type": "execute_result"
    }
   ],
   "source": [
    "import smtplib\n",
    "to = FROM_EMAIL\n",
    "gmail_user = FROM_EMAIL\n",
    "gmail_pwd = FROM_PWD\n",
    "smtpserver = smtplib.SMTP(\"smtp.gmail.com\",587)\n",
    "smtpserver.ehlo()\n",
    "smtpserver.starttls()\n",
    "smtpserver.ehlo\n",
    "smtpserver.login(gmail_user, gmail_pwd)"
   ]
  },
  {
   "cell_type": "code",
   "execution_count": 112,
   "metadata": {
    "collapsed": false
   },
   "outputs": [
    {
     "data": {
      "text/plain": [
       "{}"
      ]
     },
     "execution_count": 112,
     "metadata": {},
     "output_type": "execute_result"
    }
   ],
   "source": [
    "#! /usr/bin/python\n",
    "from email.mime.multipart import MIMEMultipart\n",
    "from email.mime.text import MIMEText\n",
    "from email.header import Header\n",
    "from email.utils import formataddr\n",
    "\n",
    "\n",
    "# me == my email address\n",
    "# you == recipient's email address\n",
    "me = FROM_EMAIL\n",
    "you = 'reciver mail @mail.com'\n",
    "\n",
    "# Create message container - the correct MIME type is multipart/alternative.\n",
    "msg = MIMEMultipart('alternative')\n",
    "msg['Subject'] = \"Hello Nasty Boy\"\n",
    "msg['From'] = formataddr((str(Header('Shahariar Azad Rabby', 'utf-8')), FROM_EMAIL))\n",
    "msg['To'] = you\n",
    "\n",
    "# Create the body of the message (a plain-text and an HTML version).\n",
    "text = \"Hi!\\n5633222222222222222http://www.python.org\"\n",
    "html = \"\"\"\\\n",
    "<html>\n",
    "  <head></head>\n",
    "  <body>\n",
    "    <p>Hi!<br>\n",
    "       How are you?<br>\n",
    "       \n",
    "       Here is the <a href=\"http://www.python.org\">link</a> you wanted.\n",
    "    </p>\n",
    "  </body>\n",
    "</html>\n",
    "\"\"\"\n",
    "\n",
    "html = x\n",
    "#attach = 'mail.txt'\n",
    "# Record the MIME types of both parts - text/plain and text/html.\n",
    "#part1 = MIMEText(text, 'plain')\n",
    "part2 = MIMEText(html, 'html')\n",
    "\n",
    "# Attach parts into message container.\n",
    "# According to RFC 2046, the last part of a multipart message, in this case\n",
    "# the HTML message, is best and preferred.\n",
    "#msg.attach(part1)\n",
    "msg.attach(part2)\n",
    "\n",
    "# Send the message via local SMTP server.\n",
    "#s = smtplib.SMTP('localhost')\n",
    "# sendmail function takes 3 arguments: sender's address, recipient's address\n",
    "# and message to send - here it is sent as one string.\n",
    "smtpserver.sendmail(me, you, msg.as_string())\n",
    "smtpserver.quit()"
   ]
  }
 ],
 "metadata": {
  "kernelspec": {
   "display_name": "Python 2",
   "language": "python",
   "name": "python2"
  },
  "language_info": {
   "codemirror_mode": {
    "name": "ipython",
    "version": 2
   },
   "file_extension": ".py",
   "mimetype": "text/x-python",
   "name": "python",
   "nbconvert_exporter": "python",
   "pygments_lexer": "ipython2",
   "version": "2.7.13"
  }
 },
 "nbformat": 4,
 "nbformat_minor": 2
}
