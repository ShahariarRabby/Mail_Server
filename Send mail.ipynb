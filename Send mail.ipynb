{
 "cells": [
  {
   "cell_type": "markdown",
   "metadata": {},
   "source": [
    "### Send email Clint\n",
    "#### Importing all dependency"
   ]
  },
  {
   "cell_type": "code",
   "execution_count": null,
   "metadata": {
    "collapsed": true
   },
   "outputs": [],
   "source": [
    "# ! /usr/bin/python\n",
    "__author__ = 'Shahariar Rabby'\n",
    "\n",
    "import smtplib\n",
    "from email.mime.multipart import MIMEMultipart\n",
    "from email.mime.text import MIMEText\n",
    "from email.header import Header\n",
    "from email.utils import formataddr\n",
    "import getpass\n"
   ]
  },
  {
   "cell_type": "markdown",
   "metadata": {},
   "source": [
    "#### User Details Function"
   ]
  },
  {
   "cell_type": "code",
   "execution_count": null,
   "metadata": {
    "collapsed": true
   },
   "outputs": [],
   "source": [
    "def user():\n",
    "#     ORG_EMAIL = \"@gmail.com\"\n",
    "#     FROM_EMAIL = \"ypur mail\" + ORG_EMAIL\n",
    "#     FROM_PWD = \"yourpss\"\n",
    "    FROM_EMAIL = raw_input(\"insert Email : \")\n",
    "    FROM_PWD = getpass.getpass(\"input : \")\n",
    "    return FROM_EMAIL,FROM_PWD"
   ]
  },
  {
   "cell_type": "markdown",
   "metadata": {},
   "source": [
    "### Login function\n",
    "In this function we call user details function and get the user name and password, Than we use those details for IMAP login.\n",
    "** SMTP is Simple Mail Transfer Protocol**"
   ]
  },
  {
   "cell_type": "code",
   "execution_count": null,
   "metadata": {
    "collapsed": true
   },
   "outputs": [],
   "source": [
    "def login():\n",
    "    gmail_user, gmail_pwd = user() #calling the user function for get user details\n",
    "    smtpserver = smtplib.SMTP(\"smtp.gmail.com\",587) #Declaring gmail SMTP server address and port \n",
    "    smtpserver.starttls() #Starting tls service, Transport Layer Security (TLS) are cryptographic protocols that provide communications security over a computer network.\n",
    "    smtpserver.login(gmail_user, gmail_pwd) #Login to Gmail server using TLS\n",
    "    print 'Login successful'\n",
    "    return smtpserver"
   ]
  },
  {
   "cell_type": "markdown",
   "metadata": {},
   "source": [
    "### Send mail function. \n",
    "This function takes 5 argument. 1. Login Data. 2. To Email 3. From Email  4. HTML format massage 5. Normal text \n",
    "\n",
    "**The HTML message, is best and preferred.**"
   ]
  },
  {
   "cell_type": "code",
   "execution_count": null,
   "metadata": {
    "collapsed": false
   },
   "outputs": [],
   "source": [
    "# text = \"Hi!\\n5633222222222222222http://www.python.org\"\n",
    "# html = \"\"\"\\\n",
    "#     <html>\n",
    "#       <head></head>\n",
    "#       <body>\n",
    "#         <p>Hi!<br>\n",
    "#            How are you?<br>\n",
    "    \n",
    "#            Here is the <a href=\"http://www.python.org\">link</a> you wanted.\n",
    "#         </p>\n",
    "#       </body>\n",
    "#     </html>\n",
    "#     \"\"\"\n",
    "def Send_Mail(smtpserver,TO_EMAIL,text=None,html=None,subject='Subject missing',FROM_EMAIL='Shahariar'):\n",
    "# Create message container - the correct MIME type is multipart/alternative.\n",
    "    msg = MIMEMultipart('alternative') # In turn, use text/plain and text/html parts within the multipart/alternative part.\n",
    "    msg['Subject'] = subject #Subject of the message\n",
    "    msg['From'] = formataddr((str(Header(FROM_EMAIL, 'utf-8')), FROM_EMAIL)) #Adding custom Sender Name\n",
    "    msg['To'] = TO_EMAIL #Assining Reciver email\n",
    "\n",
    "    part1 = MIMEText(text, 'plain') #adding text part of mail\n",
    "    part2 = MIMEText(html, 'html') #Adding HTMLpart of mail\n",
    "\n",
    "    # Attach parts into message container.\n",
    "    # According to RFC 2046, the last part of a multipart message, in this case\n",
    "    # the HTML message, is best and preferred.\n",
    "    msg.attach(part1) #attach Plain text\n",
    "    msg.attach(part2) #attach HTML text\n",
    "\n",
    "    # sendmail function takes 3 arguments: sender's address, recipient's address\n",
    "    # and message to send - here it is sent as one string.\n",
    "    try:\n",
    "        smtpserver.sendmail(FROM_EMAIL, TO_EMAIL, msg.as_string())\n",
    "        print \" Message Send\"\n",
    "        smtpserver.quit() #stopping server\n",
    "    except Exception:\n",
    "        print Exception\n"
   ]
  }
 ],
 "metadata": {
  "kernelspec": {
   "display_name": "Python 2",
   "language": "python",
   "name": "python2"
  },
  "language_info": {
   "codemirror_mode": {
    "name": "ipython",
    "version": 2
   },
   "file_extension": ".py",
   "mimetype": "text/x-python",
   "name": "python",
   "nbconvert_exporter": "python",
   "pygments_lexer": "ipython2",
   "version": "2.7.13"
  }
 },
 "nbformat": 4,
 "nbformat_minor": 2
}
