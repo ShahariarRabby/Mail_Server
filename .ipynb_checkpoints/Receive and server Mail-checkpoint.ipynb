{
 "cells": [
  {
   "cell_type": "markdown",
   "metadata": {},
   "source": [
    "# Recive Mail\n",
    "#### Importing all dependency"
   ]
  },
  {
   "cell_type": "code",
   "execution_count": null,
   "metadata": {
    "collapsed": false
   },
   "outputs": [],
   "source": [
    "__author__ = 'Shahariar Rabby'\n",
    "import email\n",
    "import imaplib\n",
    "import ctypes\n",
    "import getpass\n",
    "import threading\n",
    "from playsound import playsound"
   ]
  },
  {
   "cell_type": "markdown",
   "metadata": {},
   "source": [
    "#### User Details Function"
   ]
  },
  {
   "cell_type": "code",
   "execution_count": null,
   "metadata": {
    "collapsed": false
   },
   "outputs": [],
   "source": [
    "def user():\n",
    "#     ORG_EMAIL = \"@gmail.com\"\n",
    "#     FROM_EMAIL = \"your mail\" + ORG_EMAIL\n",
    "#     FROM_PWD = \"your pass\"\n",
    "    FROM_EMAIL = raw_input(\"insert Email : \")+'@gmail.com'\n",
    "    FROM_PWD = getpass.getpass(\"input : \")\n",
    "    return FROM_EMAIL,FROM_PWD"
   ]
  },
  {
   "cell_type": "markdown",
   "metadata": {},
   "source": [
    "### Login function\n",
    "In this function we call user details function and get the user name and password, Than we use those details for IMAP login.\n",
    "** IMAP (Internet Message Access Protocol) is a standard email protocol that stores email messages on a mail server, but allows the end user to view and manipulate the messages as though they were stored locally on the end user's computing device(s).**"
   ]
  },
  {
   "cell_type": "code",
   "execution_count": null,
   "metadata": {
    "collapsed": false
   },
   "outputs": [],
   "source": [
    "def login():\n",
    "    FROM_EMAIL,FROM_PWD = user()\n",
    "    mail = imaplib.IMAP4_SSL('imap.gmail.com', 993)\n",
    "    mail.login(FROM_EMAIL, FROM_PWD)\n",
    "    mail.select(\"INBOX\")\n",
    "    print 'Login successful'\n",
    "    return mail\n",
    "mail = login()"
   ]
  },
  {
   "cell_type": "code",
   "execution_count": null,
   "metadata": {
    "collapsed": true
   },
   "outputs": [],
   "source": [
    "def read_email_from_gmail(mail):\n",
    "    try:\n",
    "        type, data = mail.search(None, 'ALL') #Sharching all message frm inbox\n",
    "        mail_ids = data[0] #Assining all mail id to mail_ids Variable\n",
    "        id_list = mail_ids.split() #putting all mail id to id_list array\n",
    "        first_email_id = int(id_list[0]) #getting first mail id\n",
    "        latest_email_id = int(id_list[-1]) #getting last mail id\n",
    "\n",
    "        for i in range(latest_email_id, latest_email_id - 10, -1): #this loop reading last 10 message\n",
    "            typ, data = mail.fetch(i, '(RFC822)') #fatch mail data, and putting it a tuple where i=tuple no and 'RFC822' is mail\n",
    "\n",
    "            for response_part in data: #reading all data from i no message\n",
    "                if isinstance(response_part, tuple): \n",
    "                    msg = email.message_from_string(response_part[1]) #Reading mail\n",
    "                    email_subject = msg['subject'] #Email subject\n",
    "                    email_from = msg['from'] #Sender address\n",
    "\n",
    "                    print 'From : ' + email_from\n",
    "                    print 'Subject : ' + email_subject\n",
    "                    print \"Read mail: https://gmail.com\\n\"\n",
    "\n",
    "    except Exception, e:\n",
    "        print (str(e)) #printing if there is any error"
   ]
  },
  {
   "cell_type": "markdown",
   "metadata": {},
   "source": [
    "## Mail Server\n",
    "**This will start a server that notify user when there is new email**"
   ]
  },
  {
   "cell_type": "code",
   "execution_count": null,
   "metadata": {
    "collapsed": true
   },
   "outputs": [],
   "source": [
    "def Check_Unseen():\n",
    "    mail.select(\"INBOX\") #Selecting inbox\n",
    "    n = 0\n",
    "    (retcode, messages) = mail.search(None, '(UNSEEN)') #sharching unseen mail\n",
    "    if retcode == 'OK': #if unseen\n",
    "        for num in messages[0].split():\n",
    "            n = n + 1 \n",
    "            print n #print message number\n",
    "            typ, data = mail.fetch(num, '(RFC822)') #fatching mail\n",
    "            for response_part in data:\n",
    "                if isinstance(response_part, tuple):\n",
    "                    original = email.message_from_string(response_part[1])\n",
    "                    print original['From']\n",
    "                    data = original['Subject']\n",
    "                    playsound('demonstrative.wav') #play sound when mail recive\n",
    "                    print data\n",
    "                    print \"Read mail: https://gmail.com\"\n",
    "                    if data == 'eject': #make mail status unseen to seen\n",
    "                        ctypes.windll.WINMM.mciSendStringW(u\"set cdaudio door open\", None, 0, None)\n",
    "                    typ, data = mail.store(num, '+FLAGS', '\\\\Seen')\n",
    "\n",
    "    from sys import stdout\n",
    "    stdout.write(str('#')) #printing mail server is alive"
   ]
  },
  {
   "cell_type": "markdown",
   "metadata": {},
   "source": [
    "**This function call Check_Unseen in every 15 sec.**"
   ]
  },
  {
   "cell_type": "code",
   "execution_count": null,
   "metadata": {
    "collapsed": false
   },
   "outputs": [],
   "source": [
    "def server():\n",
    "    Check_Unseen()\n",
    "    threading.Timer(15, server).start() #calling function evey 15 sec\n"
   ]
  }
 ],
 "metadata": {
  "kernelspec": {
   "display_name": "Python 2",
   "language": "python",
   "name": "python2"
  },
  "language_info": {
   "codemirror_mode": {
    "name": "ipython",
    "version": 2
   },
   "file_extension": ".py",
   "mimetype": "text/x-python",
   "name": "python",
   "nbconvert_exporter": "python",
   "pygments_lexer": "ipython2",
   "version": "2.7.13"
  }
 },
 "nbformat": 4,
 "nbformat_minor": 2
}
