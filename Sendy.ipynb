{
 "cells": [
  {
   "cell_type": "markdown",
   "metadata": {},
   "source": [
    "# Sendy\n",
    "### Importing Send mail file"
   ]
  },
  {
   "cell_type": "code",
   "execution_count": 2,
   "metadata": {
    "collapsed": true
   },
   "outputs": [],
   "source": [
    "__author__ = 'Shahariar Rabby'\n",
    "\n",
    "from Sendmail import *"
   ]
  },
  {
   "cell_type": "markdown",
   "metadata": {},
   "source": [
    "** Take user email, text plan massage, HTML file **"
   ]
  },
  {
   "cell_type": "code",
   "execution_count": null,
   "metadata": {
    "collapsed": false
   },
   "outputs": [],
   "source": [
    "TO_EMAIL = raw_input(\"Enter reciver email : \") #Taking Reciver email as input\n",
    "subject = raw_input(\"Enter Mail Subject : \") #taking mail subject\n",
    "text = raw_input(\"Enter Plain message(or html format) : \") #Taking plane massage as input\n",
    "filename = raw_input('Enter file name with location(if any) : ')\n",
    "try:\n",
    "    file = open(filename,'r') #reading HTML format message\n",
    "    html = file.read() \n",
    "except:\n",
    "    html = text\n"
   ]
  },
  {
   "cell_type": "markdown",
   "metadata": {},
   "source": [
    "**Calling send mail and sending mail **"
   ]
  },
  {
   "cell_type": "code",
   "execution_count": 11,
   "metadata": {
    "collapsed": false
   },
   "outputs": [
    {
     "name": "stdout",
     "output_type": "stream",
     "text": [
      "Login successful\n",
      " Message Send\n"
     ]
    }
   ],
   "source": [
    "Send_Mail(login(),TO_EMAIL=TO_EMAIL,text=text,html=html,subject=subject)"
   ]
  }
 ],
 "metadata": {
  "kernelspec": {
   "display_name": "Python 2",
   "language": "python",
   "name": "python2"
  },
  "language_info": {
   "codemirror_mode": {
    "name": "ipython",
    "version": 2
   },
   "file_extension": ".py",
   "mimetype": "text/x-python",
   "name": "python",
   "nbconvert_exporter": "python",
   "pygments_lexer": "ipython2",
   "version": "2.7.13"
  }
 },
 "nbformat": 4,
 "nbformat_minor": 2
}
